{
 "cells": [
  {
   "cell_type": "code",
   "execution_count": 30,
   "metadata": {},
   "outputs": [],
   "source": [
    "from os import listdir\n",
    "import pandas as pd\n",
    "import numpy as np"
   ]
  },
  {
   "cell_type": "code",
   "execution_count": 14,
   "metadata": {},
   "outputs": [
    {
     "name": "stdout",
     "output_type": "stream",
     "text": [
      "['E013.csv', 'E012.csv', 'E011.csv', 'E010.csv', 'E009.csv', 'E008.csv', 'E007.csv', 'E006.csv', 'E005.csv', 'E004.csv', 'E003.csv', 'E002.csv', 'E001.csv', 'E000.csv']\n"
     ]
    }
   ],
   "source": [
    "root_dir = os.path.abspath('../..')\n",
    "data_dir = os.path.join(root_dir, 'Github\\Football Analysis\\data')\n",
    "files = []\n",
    "filenames = [ filename for filename in listdir(data_dir) if filename.endswith('.csv') ]\n",
    "filenames.reverse()\n",
    "print(filenames)"
   ]
  },
  {
   "cell_type": "code",
   "execution_count": null,
   "metadata": {},
   "outputs": [],
   "source": [
    "cols = ['HomeTeam','AwayTeam','FTHG','FTAG','FTR','HTHG','HTAG','HTR','HS','AS','HST','AST','HF','AF','HC','AC','HY','AY','HR','AR']\n",
    "data = []\n",
    "for ind, file in enumerate(filenames):\n",
    "    dat = pd.read_csv(os.path.join(data_dir,file), sep=',')\n",
    "    if ind==0:\n",
    "        to_be_taken=dat.loc[:,cols]\n",
    "        data = to_be_taken\n",
    "    else:\n",
    "        to_be_taken=dat.loc[:,cols]\n",
    "        data = pd.concat([data,to_be_taken])\n",
    "    data=data.reset_index(drop=True)    "
   ]
  },
  {
   "cell_type": "code",
   "execution_count": null,
   "metadata": {},
   "outputs": [],
   "source": [
    "teams = np.unique(data.loc[:,'HomeTeam'].tolist())\n",
    "for team in teams:\n",
    "    for index, row in data.iterrows():\n",
    "        print(row)\n",
    "        if index>10:\n",
    "            break\n",
    "#         if row['HomeTeam']==team:\n",
    "#             print(team+'home')\n",
    "#         elif row['AwayTeam']==team:\n",
    "#             print(team)"
   ]
  },
  {
   "cell_type": "code",
   "execution_count": null,
   "metadata": {},
   "outputs": [],
   "source": []
  },
  {
   "cell_type": "code",
   "execution_count": null,
   "metadata": {},
   "outputs": [],
   "source": []
  },
  {
   "cell_type": "raw",
   "metadata": {},
   "source": []
  }
 ],
 "metadata": {
  "kernelspec": {
   "display_name": "Python 3",
   "language": "python",
   "name": "python3"
  },
  "language_info": {
   "codemirror_mode": {
    "name": "ipython",
    "version": 3
   },
   "file_extension": ".py",
   "mimetype": "text/x-python",
   "name": "python",
   "nbconvert_exporter": "python",
   "pygments_lexer": "ipython3",
   "version": "3.7.0"
  }
 },
 "nbformat": 4,
 "nbformat_minor": 2
}
